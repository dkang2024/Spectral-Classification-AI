{
 "cells": [
  {
   "cell_type": "markdown",
   "metadata": {},
   "source": [
    "### Initialization of Image Dataset\n",
    "This file is specifically to make it easy for the user to initialize the image dataset by drawing images of stars from the internet using the hips2fits service."
   ]
  },
  {
   "cell_type": "code",
   "execution_count": 50,
   "metadata": {},
   "outputs": [],
   "source": [
    "import os \n",
    "import pandas as pd \n",
    "from astroquery.hips2fits import hips2fits\n",
    "from matplotlib.image import imsave, imread\n",
    "import astropy.coordinates as coord\n",
    "import astropy.units as u\n",
    "import numpy as np\n",
    "import matplotlib.pyplot as plt\n",
    "from IPython.display import clear_output"
   ]
  },
  {
   "cell_type": "code",
   "execution_count": 51,
   "metadata": {},
   "outputs": [],
   "source": [
    "#Create/Update ImageCount.csv\n",
    "def createCSV():\n",
    "    PATH = os.path.join('Images', 'ImageCount.csv')\n",
    "\n",
    "    DataFrame = pd.DataFrame([[len(os.listdir(os.path.join('Image Dataset')))]], columns=['Number of Images']) #Takes the number of files in the Image Dataset directory and sets that equal to the number of images\n",
    "    DataFrame.to_csv(PATH)\n",
    "\n",
    "createCSV()"
   ]
  },
  {
   "cell_type": "markdown",
   "metadata": {},
   "source": [
    "### Image Setup\n",
    "\n",
    "The below cell gets images of the stars using the hips2fits service present with astroquery. Because there is no formula for FOV, or how zoomed in the image is, the user is asked to specify the perfect FOV and choose a specific image to save to the Image Dataset folder. This will time you out after a while because of hips2fits' DDOS protections. If that happens, just rerun the below cell. **SOME IMAGES WILL BE AWFUL AND DO NOT ACCURATELY REPRESENT STARS: THESE IMAGES ARE IGNORED BY PLACING THEIR SPECIFIC INDEX IN MODEL.IPYNB**"
   ]
  },
  {
   "cell_type": "code",
   "execution_count": null,
   "metadata": {},
   "outputs": [],
   "source": [
    "#Sets up Images in the Images Folder\n",
    "def PullData():\n",
    "    PulledData, Count = pd.read_csv(os.path.join('Images', 'GeneratedData.txt'), index_col=0), pd.read_csv(os.path.join('Images', 'ImageCount.csv'), index_col=0)['Number of Images'][0]\n",
    "\n",
    "    PulledData = PulledData.iloc[Count:, :] #Pulls Only the rows AFTER what has already been appended to the Image Dataset using iloc\n",
    "\n",
    "    return Count, PulledData\n",
    "\n",
    "def Image(ra, dec, FOV):\n",
    "    result = hips2fits.query(\n",
    "        hips='CDS/P/DSS2/color',\n",
    "        width=164,\n",
    "        height=164,\n",
    "        ra=coord.Angle(ra, unit=u.hourangle),\n",
    "        dec=coord.Angle(dec, unit=u.deg),\n",
    "        fov=coord.Angle(FOV * u.deg),\n",
    "        projection='TAN',\n",
    "        format='jpg'\n",
    "        ) #Queries the DSS2 color HIPS for the image, returned in the form of a matrix.\n",
    "    \n",
    "    return result\n",
    "\n",
    "def UserImage(pulled_row, Count, min_value=0.005, max_value=0.01):\n",
    "    clear_output() #Clears the Jupyter output for easier viewing and repetition\n",
    "\n",
    "    ra, dec = pulled_row['Ra'], pulled_row['Dec'] #Extracts the RA and DEC coordinates\n",
    "\n",
    "    FOVs = np.linspace(min_value, max_value, 4) #Returns 4 values for FOV \n",
    "    image_num, matrices = 1, [Image(ra, dec, fov) for fov in FOVs] #Gets \n",
    "    figure, ((ax1, ax2), (ax3, ax4)) = plt.subplots(2, 2, figsize=(9, 9), layout='constrained')\n",
    "\n",
    "    for ax in (ax1, ax2, ax3, ax4):\n",
    "        ax.imshow(matrices[image_num - 1]) #Shows all the images in all the axes, labels with the image number\n",
    "        ax.tick_params(labelbottom=False, bottom=False, labelleft=False, left=False)\n",
    "        ax.set(title=f'Star Image {image_num}')\n",
    "        image_num += 1\n",
    "    \n",
    "    plt.show()\n",
    "    \n",
    "    valid_num, exit_triggered = False, False\n",
    "    while not valid_num: \n",
    "        try:\n",
    "            num_index_to_save = input('What image out of those displayed do you wish to save (exit if you want to exit) (resize if you want to resize)? ') \n",
    "\n",
    "            if num_index_to_save.lower() == 'exit':\n",
    "                valid_num, exit_triggered = True, True #Exits everything\n",
    "            \n",
    "            elif num_index_to_save.lower() == 'resize':\n",
    "                satisfied = False \n",
    "                while not satisfied: \n",
    "                    min_val, max_val = input('What new minimum value do you want for FOV?'), input('What new maximum value do you want for FOV') #Gets values for resizing the FOV (passed to recursion)\n",
    "\n",
    "                    try:\n",
    "                        UserImage(pulled_row, Count, float(min_val), float(max_val)) #Recursion that resizes the FOV and displays again\n",
    "                        satisfied = True\n",
    "                    \n",
    "                    except: \n",
    "                        print('Please enter valid floats for resizing. Default min is 0.005, default max is 0.01')\n",
    "                valid_num = True\n",
    "            \n",
    "            else: \n",
    "                num_index_to_save = int(num_index_to_save) - 1 #Gets the index to save, saves it to Image Dataset\n",
    "                imsave(os.path.join('Image Dataset', f'Star{Count + 1}.png'), matrices[num_index_to_save])\n",
    "                valid_num = True\n",
    "\n",
    "        except:\n",
    "            print('You must enter a valid integer!')\n",
    "\n",
    "    createCSV() #Updates the CSV file for images to make sure no images are added to the dataset twice\n",
    "\n",
    "    return exit_triggered #This allows the for loop to be broken (See code below)\n",
    "\n",
    "createCSV()\n",
    "count, pulled_data = PullData()\n",
    "for index, row in pulled_data.iterrows(): #Iterates over the rows of the pulled data\n",
    "    count = PullData()[0] #Updates count\n",
    "    \n",
    "    exit_triggered = UserImage(row, count)\n",
    "        \n",
    "    if exit_triggered == True: \n",
    "        break #If exit is triggered, break out of the for loop"
   ]
  },
  {
   "cell_type": "markdown",
   "metadata": {},
   "source": [
    "The cell bellow creates the labels for the image dataset based on their spectral class, of whether they are more white, blue, or orange. "
   ]
  },
  {
   "cell_type": "code",
   "execution_count": 52,
   "metadata": {},
   "outputs": [],
   "source": [
    "#Create the ImageClassification.csv file/update it \n",
    "IMAGE_CLASSIFICATION, SPEC_CLASS, IMAGES = os.path.join('Images', 'ImageClassification.csv'), os.path.join('Dataset', 'Dataset.csv'), os.path.join('Image Dataset')\n",
    "\n",
    "Stars_Classified, Spec_Class = [], pd.read_csv(SPEC_CLASS, index_col=0)['Spectral Class'] #Find the Spectral Class of all the stars with images\n",
    "for index in range(len(os.listdir(IMAGES))): #For each image in the Images Dataset\n",
    "    \n",
    "    if Spec_Class[index] == 'O': #If the spectral class is O, append 0, which represents blue\n",
    "        Stars_Classified.append(0)\n",
    "    \n",
    "    elif Spec_Class[index] == 'B' or Spec_Class[index] == 'A' or Spec_Class[index] == 'F': #If the spectral class is B, A, or F, append 1, which represents white\n",
    "        Stars_Classified.append(1)\n",
    "    \n",
    "    else:\n",
    "        Stars_Classified.append(2) #If the spectral class is anything else, append 2, which represents orange\n",
    "\n",
    "pd.DataFrame(Stars_Classified, columns=['Color']).to_csv(IMAGE_CLASSIFICATION) #Save the file"
   ]
  }
 ],
 "metadata": {
  "kernelspec": {
   "display_name": "tf",
   "language": "python",
   "name": "python3"
  },
  "language_info": {
   "codemirror_mode": {
    "name": "ipython",
    "version": 3
   },
   "file_extension": ".py",
   "mimetype": "text/x-python",
   "name": "python",
   "nbconvert_exporter": "python",
   "pygments_lexer": "ipython3",
   "version": "3.11.4"
  },
  "orig_nbformat": 4
 },
 "nbformat": 4,
 "nbformat_minor": 2
}
